{
 "cells": [
  {
   "cell_type": "markdown",
   "id": "minus-rebel",
   "metadata": {},
   "source": [
    "# Modeling the Model\n",
    "\n",
    "Lets see exactly where we end up with the most/least error"
   ]
  },
  {
   "cell_type": "code",
   "execution_count": 1,
   "id": "compatible-converter",
   "metadata": {
    "execution": {
     "iopub.execute_input": "2021-10-03T23:00:28.910801Z",
     "iopub.status.busy": "2021-10-03T23:00:28.910350Z",
     "iopub.status.idle": "2021-10-03T23:00:31.035560Z",
     "shell.execute_reply": "2021-10-03T23:00:31.035213Z"
    },
    "scrolled": false
   },
   "outputs": [],
   "source": [
    "import os\n",
    "\n",
    "os.environ[\"CUDA_VISIBLE_DEVICES\"] = \"-1\"\n",
    "os.environ[\"TF_FORCE_GPU_ALLOW_GROWTH\"] = \"true\"\n",
    "os.environ[\"TF_CPP_MIN_LOG_LEVEL\"] = \"3\"\n",
    "\n",
    "from collections import defaultdict\n",
    "\n",
    "import numpy as np\n",
    "import pandas as pd\n",
    "import matplotlib.pyplot as plt\n",
    "\n",
    "from optpresso import __file__ as optpresso_path\n",
    "from optpresso.utils import GroundsLoader\n",
    "from optpresso.models.eval import predict_values\n",
    "from optpresso.data.partition import find_test_paths\n",
    "from optpresso.models.serialization import load_model\n",
    "from optpresso.data.config import load_config\n",
    "\n",
    "from scipy.stats import kendalltau, trim_mean, pearsonr, spearmanr, bootstrap\n",
    "from sklearn.metrics import r2_score, mean_squared_error, mean_absolute_error, mean_squared_error\n",
    "\n",
    "from IPython.core.display import display"
   ]
  },
  {
   "cell_type": "code",
   "execution_count": 2,
   "id": "objective-worker",
   "metadata": {
    "execution": {
     "iopub.execute_input": "2021-10-03T23:00:31.039560Z",
     "iopub.status.busy": "2021-10-03T23:00:31.039200Z",
     "iopub.status.idle": "2021-10-03T23:00:31.843234Z",
     "shell.execute_reply": "2021-10-03T23:00:31.842888Z"
    },
    "scrolled": false
   },
   "outputs": [],
   "source": [
    "\n",
    "plt.rcParams[\"figure.dpi\"] = 150\n",
    "TRAINING_DIR = os.path.expanduser(\"/mnt/nvme/coffee-images/train/\")\n",
    "DATA_DIR = os.path.expanduser(\"/mnt/nvme/coffee-images/test/\")\n",
    "\n",
    "config = load_config()\n",
    "if config is None:\n",
    "    print(\"Invalid config, call optpresso init\")\n",
    "    raise ValueError(\"Invalid config\")\n",
    "model_path = config.model\n",
    "model = load_model(model_path, compile=False)\n",
    "\n",
    "loader = GroundsLoader(128, (model.input_shape[1], model.input_shape[2]), directory=DATA_DIR)"
   ]
  },
  {
   "cell_type": "code",
   "execution_count": null,
   "id": "interpreted-retro",
   "metadata": {
    "execution": {
     "iopub.execute_input": "2021-10-03T23:00:31.846071Z",
     "iopub.status.busy": "2021-10-03T23:00:31.845721Z",
     "iopub.status.idle": "2021-10-03T23:01:22.683858Z",
     "shell.execute_reply": "2021-10-03T23:01:22.683505Z"
    },
    "scrolled": false
   },
   "outputs": [],
   "source": [
    "paths, y_true, y_pred = predict_values(model, loader)"
   ]
  },
  {
   "cell_type": "code",
   "execution_count": null,
   "id": "after-edmonton",
   "metadata": {
    "execution": {
     "iopub.execute_input": "2021-10-03T23:01:22.746812Z",
     "iopub.status.busy": "2021-10-03T23:01:22.746175Z",
     "iopub.status.idle": "2021-10-03T23:01:24.393244Z",
     "shell.execute_reply": "2021-10-03T23:01:24.393514Z"
    },
    "scrolled": false
   },
   "outputs": [],
   "source": [
    "rope_region = 6\n",
    "\n",
    "bins = defaultdict(list)\n",
    "for real, pred in zip(y_true, y_pred):\n",
    "    bins[real].append(pred)\n",
    "x = np.zeros(len(bins))\n",
    "y = np.zeros_like(x)\n",
    "meds = np.zeros_like(x)\n",
    "trimmed_mean = np.zeros_like(x)\n",
    "deviations = np.zeros_like(x)\n",
    "for i, (time, predictions) in enumerate(sorted(bins.items(), key=lambda x: x[0])):\n",
    "    x[i] = time\n",
    "    y[i] = np.mean(predictions)\n",
    "    meds[i] = np.median(predictions)\n",
    "    trimmed_mean[i] = trim_mean(predictions, proportiontocut=0.1)\n",
    "    deviations[i] = np.std(predictions)\n",
    "abs_diff = np.abs(y_true - y_pred)\n",
    "good_mask = np.argwhere(abs_diff <= rope_region)\n",
    "outlier_mask = np.argwhere(abs_diff > rope_region)\n",
    "fig, ax = plt.subplots(dpi=150)\n",
    "ax.axline([0, 0], [1, 1], color=\"g\", label=\"Perfect fit\")\n",
    "ax.plot(x, meds, color=\"purple\", label=\"Median\")\n",
    "ax.plot(x, y, color=\"red\", label=\"Mean\")\n",
    "ax.plot(x, trimmed_mean, color=\"pink\", label=\"Trimmed Mean\")\n",
    "ax.fill_between(x, (y-deviations), (y+deviations), linestyle=\"None\", color=\"purple\", alpha=.3, label=\"Std Deviation\")\n",
    "ax.fill_between(x, (x-6), (x+6), color='gray', alpha=.05, label=\"Region of pratical equivalence\")\n",
    "ax.scatter(y_true[good_mask], y_pred[good_mask], alpha=.1, label=\"Predictions within 6s\")\n",
    "ax.scatter(y_true[outlier_mask], y_pred[outlier_mask], alpha=.1, label=\"Outlier Predictions\", color=\"r\")\n",
    "ax.set_ylabel(\"Prediction\")\n",
    "ax.set_xlabel(\"Pull time\")\n",
    "ax.set_title(\"Model Predictions\")\n",
    "fig.legend(bbox_to_anchor=(0, -.4), loc='lower left')\n",
    "ax.set_xlim(min(np.min(y_pred), np.min(x)) - 1, np.max(x)+1)\n",
    "ax.set_ylim(min(np.min(y_pred), np.min(x)) - 1, max(np.max(y_pred), np.max(y)) + 1)\n",
    "\n",
    "\n",
    "pearsonr_boot = bootstrap(\n",
    "    (y_true, y_pred),\n",
    "    lambda a, b: pearsonr(a, b)[0]**2,\n",
    "    vectorized=False,\n",
    "    paired=True,\n",
    ")\n",
    "model_stats = {\n",
    "    \"kendall tau\": kendalltau(y_true, y_pred)[0],\n",
    "    \"pearson $r^2$\": pearsonr(y_true, y_pred)[0]**2,\n",
    "    \"pearson $r^2$ 95% CI\": pearsonr_boot.confidence_interval,\n",
    "    \"spearman $r_{s}^2$\": spearmanr(y_true, y_pred)[0]**2,\n",
    "    \"mse\": mean_squared_error(y_true, y_pred),\n",
    "    \"mae\": mean_absolute_error(y_true, y_pred),\n",
    "    \"% within 6s\": len(y_true[good_mask]) / len(y_true),\n",
    "}\n",
    "for i, (name, stat) in enumerate(model_stats.items()):\n",
    "    stat = np.round(stat, 2)\n",
    "    ax.annotate(\n",
    "        f\"{name}: {stat}\",\n",
    "        (0.7, -0.15 - 0.05 * i),\n",
    "        xycoords=\"axes fraction\"\n",
    "    )\n",
    "\n",
    "plt.show()"
   ]
  },
  {
   "cell_type": "markdown",
   "id": "weighted-stamp",
   "metadata": {},
   "source": [
    "### Evalute where the model performed poorly\n",
    "\n",
    "Compare both the mean prediction value per pull time and see if the Standard deviation accounts for the error or if the Region of Practical Equivalence (ROPE) of 6 seconds is enough to account for the error in the mean prediction for a pull time."
   ]
  },
  {
   "cell_type": "code",
   "execution_count": null,
   "id": "convertible-reach",
   "metadata": {
    "execution": {
     "iopub.execute_input": "2021-10-03T23:01:22.687056Z",
     "iopub.status.busy": "2021-10-03T23:01:22.686718Z",
     "iopub.status.idle": "2021-10-03T23:01:22.734308Z",
     "shell.execute_reply": "2021-10-03T23:01:22.733991Z"
    }
   },
   "outputs": [],
   "source": [
    "images_by_time = defaultdict(list)\n",
    "for time, img_path in find_test_paths(TRAINING_DIR):\n",
    "    images_by_time[time].append(img_path)"
   ]
  },
  {
   "cell_type": "code",
   "execution_count": null,
   "id": "contained-treasure",
   "metadata": {
    "execution": {
     "iopub.execute_input": "2021-10-03T23:01:24.401863Z",
     "iopub.status.busy": "2021-10-03T23:01:24.401497Z",
     "iopub.status.idle": "2021-10-03T23:01:24.745011Z",
     "shell.execute_reply": "2021-10-03T23:01:24.744720Z"
    }
   },
   "outputs": [],
   "source": [
    "counts = []\n",
    "for key, val in images_by_time.items():\n",
    "    counts.append((key, len(val)))\n",
    "means = np.zeros_like(y)\n",
    "meds = np.zeros_like(x)\n",
    "trimmed_mean = np.zeros_like(x)\n",
    "deviations = np.zeros_like(x)\n",
    "for i, (time, predictions) in enumerate(sorted(bins.items(), key=lambda x: x[0])):\n",
    "    means[i] = np.mean(predictions) - time\n",
    "    meds[i] = np.median(predictions) - time\n",
    "    trimmed_mean[i] = trim_mean(predictions, proportiontocut=0.2) - time\n",
    "    deviations[i] = np.std(predictions)\n",
    "\n",
    "means = np.abs(means)\n",
    "meds = np.abs(meds)\n",
    "trimmed_mean = np.abs(trimmed_mean)\n",
    "data = []\n",
    "for key, val in images_by_time.items():\n",
    "    for _ in range(len(val)):\n",
    "        data.append(key)\n",
    "plt.hist(\n",
    "    data,\n",
    "    len(images_by_time),\n",
    "    color=\"blue\",\n",
    "    stacked=True,\n",
    "    label=\"Counts\",\n",
    "    alpha=0.5\n",
    ")\n",
    "axe = plt.gca()\n",
    "axe.set_ylabel(\"Number of images\")\n",
    "axe_2 = plt.twinx()\n",
    "axe_2.plot(x, meds, color=\"purple\", label=\"Median\")\n",
    "axe_2.plot(x, means, color=\"red\", label=\"Mean\")\n",
    "axe_2.plot(x, trimmed_mean, color=\"pink\", label=\"Trimmed Mean\")\n",
    "axe_2.fill_between(x, means, (means+deviations), linestyle=\"None\", color=\"purple\", alpha=.3, label=\"Std Deviation\")\n",
    "axe_2.set_ylabel(\"Error\")\n",
    "axe_2.axhline(0, label=\"Zero Error\", linestyle=\"--\", color=\"black\")\n",
    "axe_2.axhline(6, label=\"Six second Error\", linestyle=\"--\", color=\"green\")\n",
    "plt.xlabel(\"Pull time\")\n",
    "best = None\n",
    "for name, vals in [(\"Median\", meds), (\"Mean\", means), (\"Trimmed mean\", trimmed_mean)]:\n",
    "    area_under_curve = np.trapz(x, vals)\n",
    "    print(name, area_under_curve)\n",
    "    if best is None or best[1] > area_under_curve:\n",
    "        best = (name, area_under_curve)\n",
    "print(f\"Best Statistic by Area under the curve is {best[0]}\")\n",
    "plt.title(f\"Image counts and prediction error\")\n",
    "plt.legend(bbox_to_anchor=(1.1, 1), loc='upper left')\n",
    "plt.show()"
   ]
  },
  {
   "cell_type": "code",
   "execution_count": null,
   "id": "funky-sender",
   "metadata": {
    "execution": {
     "iopub.execute_input": "2021-10-03T23:01:24.765362Z",
     "iopub.status.busy": "2021-10-03T23:01:24.762974Z",
     "iopub.status.idle": "2021-10-03T23:01:24.979859Z",
     "shell.execute_reply": "2021-10-03T23:01:24.979478Z"
    },
    "scrolled": false
   },
   "outputs": [],
   "source": [
    "diff = y_true - y_pred\n",
    "threshold = 6\n",
    "fig, axe = plt.subplots(dpi=150)\n",
    "n, hist_bins, patches = axe.hist(diff, bins=30, label=\"Difference distribution\")\n",
    "plt.title(\"Pull time prediction errors\")\n",
    "plt.xlabel(\"Error in prediction\")\n",
    "plt.ylabel(\"Count\")\n",
    "axe.axvline(threshold, color=\"black\", linestyle=\"--\", label=\"Six second threshold\")\n",
    "axe.axvline(-threshold, color=\"black\", linestyle=\"--\")\n",
    "mids = 0.5*(hist_bins[1:] + hist_bins[:-1])\n",
    "mean = np.average(mids, weights=n)\n",
    "var = np.average((mids - mean)**2, weights=n)\n",
    "std = np.sqrt(var)\n",
    "axe.axvline(mean + std, color=\"red\", linestyle=\"--\", label=\"Std Deviation\")\n",
    "axe.axvline(mean-std, color=\"red\", linestyle=\"--\")\n",
    "axe.axvline(mean, color=\"orange\", linestyle=\"--\", label=\"Mean\")\n",
    "print(mean, std)\n",
    "fig.legend(bbox_to_anchor=(1.1, 1), loc='upper right')\n",
    "plt.show()"
   ]
  },
  {
   "cell_type": "code",
   "execution_count": null,
   "id": "linear-spectrum",
   "metadata": {
    "execution": {
     "iopub.execute_input": "2021-10-03T23:01:24.983524Z",
     "iopub.status.busy": "2021-10-03T23:01:24.983184Z",
     "iopub.status.idle": "2021-10-03T23:01:24.984750Z",
     "shell.execute_reply": "2021-10-03T23:01:24.985020Z"
    },
    "scrolled": false
   },
   "outputs": [],
   "source": [
    "stacked_data = np.dstack((paths, y_true, y_pred))\n",
    "stacked_data.resize(len(paths), 3)\n",
    "sort = np.argsort(stacked_data[:,1])\n",
    "sorted_data = stacked_data[sort]"
   ]
  },
  {
   "cell_type": "markdown",
   "id": "occupied-marina",
   "metadata": {},
   "source": [
    "### Investigate the inability to distinguish between 30s and 50s shots\n",
    "\n",
    "A problem I have noticed is that the model has issues learning the difference between a 30 second shot and a 50 second shot. This investigated the point at which that distinction has the biggest impact on the MSE/MAD.\n",
    "\n",
    "The following two cells look at cutting off from low to high (cut off at 10 seconds, then 15, etc) then high to low (cut off 60 seconds, then 55, etc) to see the impact of on the statistics."
   ]
  },
  {
   "cell_type": "code",
   "execution_count": null,
   "id": "lasting-politics",
   "metadata": {
    "execution": {
     "iopub.execute_input": "2021-10-03T23:01:25.000597Z",
     "iopub.status.busy": "2021-10-03T23:01:24.996886Z",
     "iopub.status.idle": "2021-10-03T23:01:27.242869Z",
     "shell.execute_reply": "2021-10-03T23:01:27.242574Z"
    }
   },
   "outputs": [],
   "source": [
    "x = np.arange(0, max(sorted_data[:, 1]), 1)\n",
    "y = np.arange(max(sorted_data[:, 1]) - 1, 0, -1)\n",
    "mse_data = np.ones((len(x), len(x))) * 150\n",
    "mad_data = np.ones_like(mse_data) * 8\n",
    "min_mse_cutoff = None\n",
    "min_mad_cutoff = None\n",
    "for high_cutoff in x:\n",
    "    for low_cutoff in y:\n",
    "        if low_cutoff >= high_cutoff:\n",
    "            continue\n",
    "        high_idx = 0\n",
    "        for i in range(len(paths)):\n",
    "            if sorted_data[i][1] >= high_cutoff:\n",
    "                high_idx = i\n",
    "                break\n",
    "        low_idx = 0\n",
    "        for i in reversed(range(len(paths))):\n",
    "            if sorted_data[i][1] <= low_cutoff:\n",
    "                low_idx = i\n",
    "                break\n",
    "        trimmed_x = sorted_data[:,1][low_idx:high_idx]\n",
    "        trimmed_y = sorted_data[:,2][low_idx:high_idx]\n",
    "        if not len(trimmed_x):\n",
    "            continue\n",
    "        mse = mean_squared_error(trimmed_x, trimmed_y)\n",
    "        mae = mean_absolute_error(trimmed_x, trimmed_y)\n",
    "        mse_data[int(high_cutoff), int(low_cutoff)] = mse_data[int(low_cutoff), int(high_cutoff)] = mse\n",
    "        mad_data[int(high_cutoff), int(low_cutoff)] = mad_data[int(low_cutoff), int(high_cutoff)] = mae\n",
    "        if min_mse_cutoff is None or mse < min_mse_cutoff[2]:\n",
    "            min_mse_cutoff = (low_cutoff, high_cutoff, mse)\n",
    "        if min_mad_cutoff is None or mae < min_mad_cutoff[2]:\n",
    "            min_mad_cutoff = (low_cutoff, high_cutoff, mae)\n",
    "plt.imshow(mse_data, cmap=\"hot\", interpolation=\"nearest\")\n",
    "plt.xlabel(\"High cutoff\")\n",
    "plt.ylabel(\"Low cutoff\")\n",
    "plt.title(\"MSE heat map\")\n",
    "plt.colorbar()\n",
    "plt.show()\n",
    "print(\"Cutoff with lowest MSE\", min_mse_cutoff)\n",
    "\n",
    "\n",
    "plt.imshow(mad_data, cmap=\"hot\", interpolation=\"nearest\")\n",
    "plt.xlabel(\"High cutoff\")\n",
    "plt.ylabel(\"Low cutoff\")\n",
    "plt.title(\"MAE heat map\")\n",
    "plt.colorbar()\n",
    "plt.show()\n",
    "print(\"Cutoff with lowest MAE\", min_mad_cutoff)"
   ]
  },
  {
   "cell_type": "markdown",
   "id": "b85dee21",
   "metadata": {},
   "source": [
    "###### "
   ]
  }
 ],
 "metadata": {
  "kernelspec": {
   "display_name": "Python 3 (ipykernel)",
   "language": "python",
   "name": "python3"
  },
  "language_info": {
   "codemirror_mode": {
    "name": "ipython",
    "version": 3
   },
   "file_extension": ".py",
   "mimetype": "text/x-python",
   "name": "python",
   "nbconvert_exporter": "python",
   "pygments_lexer": "ipython3",
   "version": "3.7.11"
  }
 },
 "nbformat": 4,
 "nbformat_minor": 5
}
