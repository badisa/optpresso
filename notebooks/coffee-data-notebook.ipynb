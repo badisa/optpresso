{
 "cells": [
  {
   "cell_type": "markdown",
   "metadata": {},
   "source": [
    "# Coffee Data Notebook\n",
    "\n",
    "Looking at different aspects of the data, mostly to improve collection and have more awareness.\n"
   ]
  },
  {
   "cell_type": "code",
   "execution_count": 1,
   "metadata": {},
   "outputs": [],
   "source": [
    "import os\n",
    "\n",
    "from collections import defaultdict\n",
    "import numpy as np\n",
    "import matplotlib.pyplot as plt\n",
    "from optpresso.data.partition import find_test_paths"
   ]
  },
  {
   "cell_type": "code",
   "execution_count": 2,
   "metadata": {},
   "outputs": [],
   "source": [
    "DATA_DIR = os.path.expanduser(\"~/coffee-images/\")\n",
    "\n",
    "INPUT_SIZE = (640, 480)\n",
    "\n",
    "images_by_time = defaultdict(list)\n",
    "for time, img_path in find_test_paths(DATA_DIR):\n",
    "    images_by_time[time].append(img_path)"
   ]
  },
  {
   "cell_type": "code",
   "execution_count": 9,
   "metadata": {},
   "outputs": [
    {
     "name": "stdout",
     "output_type": "stream",
     "text": [
      "38\n",
      "46\n",
      "40\n",
      "13\n",
      "25\n",
      "14\n",
      "42\n",
      "23\n",
      "33\n",
      "16\n",
      "10\n",
      "45\n",
      "35\n",
      "11\n",
      "36\n",
      "12\n",
      "29\n",
      "39\n",
      "53\n",
      "6\n",
      "20\n",
      "49\n",
      "43\n",
      "7\n",
      "24\n",
      "50\n",
      "57\n",
      "34\n",
      "47\n",
      "17\n",
      "21\n",
      "54\n",
      "5\n",
      "41\n",
      "27\n",
      "37\n",
      "19\n",
      "30\n",
      "22\n",
      "56\n",
      "28\n",
      "8\n",
      "9\n",
      "44\n",
      "15\n",
      "31\n",
      "32\n",
      "18\n",
      "26\n",
      "Spread of all data in /home/badisa/coffee-images/\n"
     ]
    },
    {
     "data": {
      "image/png": "[encoded data removed]",
      "text/plain": [
       "<Figure size 432x288 with 1 Axes>"
      ]
     },
     "metadata": {
      "needs_background": "light"
     },
     "output_type": "display_data"
    }
   ],
   "source": [
    "hist_data = []\n",
    "for key, val in images_by_time.items():\n",
    "    for _ in range(len(val)):\n",
    "        hist_data.append(key)\n",
    "plt.hist(hist_data, 60)\n",
    "print(f\"Spread of all data in {DATA_DIR}\")"
   ]
  },
  {
   "cell_type": "code",
   "execution_count": null,
   "metadata": {},
   "outputs": [],
   "source": []
  }
 ],
 "metadata": {
  "kernelspec": {
   "display_name": "Python 3",
   "language": "python",
   "name": "python3"
  },
  "language_info": {
   "codemirror_mode": {
    "name": "ipython",
    "version": 3
   },
   "file_extension": ".py",
   "mimetype": "text/x-python",
   "name": "python",
   "nbconvert_exporter": "python",
   "pygments_lexer": "ipython3",
   "version": "3.7.9"
  }
 },
 "nbformat": 4,
 "nbformat_minor": 4
}
